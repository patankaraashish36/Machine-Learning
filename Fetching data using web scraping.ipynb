{
 "cells": [
  {
   "cell_type": "code",
   "execution_count": 1,
   "id": "b7a50884",
   "metadata": {},
   "outputs": [],
   "source": [
    "import pandas as pd \n",
    "import requests as r\n",
    "from bs4 import BeautifulSoup"
   ]
  },
  {
   "cell_type": "code",
   "execution_count": 33,
   "id": "49bc328f",
   "metadata": {},
   "outputs": [],
   "source": [
    "url =\"https://www.flipkart.com/search?q=mobiles%205g&otracker=search&otracker1=search&marketplace=FLIPKART&as-show=on&as=off\"\n",
    "response = r.get(url)"
   ]
  },
  {
   "cell_type": "code",
   "execution_count": 34,
   "id": "77dfce0a",
   "metadata": {},
   "outputs": [],
   "source": [
    "soup = BeautifulSoup(response.content,'lxml')\n"
   ]
  },
  {
   "cell_type": "code",
   "execution_count": 10,
   "id": "07dfceb7",
   "metadata": {},
   "outputs": [],
   "source": [
    "# print(soup.prettify())"
   ]
  },
  {
   "cell_type": "code",
   "execution_count": 11,
   "id": "bed15b2c",
   "metadata": {},
   "outputs": [],
   "source": [
    "#  Extract the heading"
   ]
  },
  {
   "cell_type": "code",
   "execution_count": 38,
   "id": "9138d04f",
   "metadata": {},
   "outputs": [
    {
     "name": "stdout",
     "output_type": "stream",
     "text": [
      "Showing 1 – 24 of 7,982 results for \"mobiles 5g\"\n"
     ]
    }
   ],
   "source": [
    "for heading in soup.find_all(\"span\",class_=\"_10Ermr\"):\n",
    "    print(heading.text.strip(\"\"))\n",
    "# soup.find_all(\"h2\",class_=\"cds-119 cds-Typography-base css-bbd009 cds-121\")"
   ]
  },
  {
   "cell_type": "code",
   "execution_count": 7,
   "id": "51d9bbf2",
   "metadata": {},
   "outputs": [],
   "source": [
    "# <span class=\"_10Ermr\">Showing 1 – 24 of 7,982 results for \"<span>mobiles 5g</span>\"</span>\n",
    "# <div class=\"_4rR01T\">Nothing Phone (2a) 5G (Black, 256 GB)</div>\n",
    "# <div class=\"_30jeq3 _1_WHN1\">₹27,999</div>\n",
    "# <div class=\"_3LWZlK\">rating"
   ]
  },
  {
   "cell_type": "code",
   "execution_count": 45,
   "id": "685ba1f8",
   "metadata": {},
   "outputs": [
    {
     "name": "stdout",
     "output_type": "stream",
     "text": [
      "Nothing Phone (2a) 5G (Black, 256 GB)\n",
      "SAMSUNG Galaxy F15 5G (Groovy Violet, 128 GB)\n",
      "SAMSUNG Galaxy F15 5G (Jazzy Green, 128 GB)\n",
      "Motorola G34 5G (Ocean Green, 128 GB)\n",
      "Motorola G34 5G (Charcoal Black, 128 GB)\n",
      "SAMSUNG Galaxy F15 5G (Groovy Violet, 128 GB)\n",
      "SAMSUNG Galaxy F15 5G (Ash Black, 128 GB)\n",
      "Motorola G34 5G (Ice Blue, 128 GB)\n",
      "Motorola g54 5G (Midnight Blue, 128 GB)\n",
      "Motorola g54 5G (Mint Green, 128 GB)\n",
      "OnePlus Nord CE 3 Lite 5G (Chromatic Gray, 256 GB)\n",
      "OnePlus Nord CE 3 Lite 5G (Pastel Lime, 256 GB)\n",
      "Motorola g54 5G (Mint Green, 256 GB)\n",
      "OnePlus Nord CE 3 Lite 5G (Pastel Lime, 128 GB)\n",
      "OnePlus Nord CE 3 Lite 5G (Chromatic Gray, 128 GB)\n",
      "OnePlus Nord CE 3 Lite 5G (Chromatic Gray, 128 GB)\n",
      "Motorola g54 5G (Midnight Blue, 256 GB)\n",
      "SAMSUNG Galaxy F15 5G (Jazzy Green, 128 GB)\n",
      "SAMSUNG Galaxy M14 5G (Smoky Teal, 128 GB)\n",
      "SAMSUNG Galaxy F15 5G (Ash Black, 128 GB)\n",
      "POCO M6 5G (Orion Blue, 128 GB)\n",
      "vivo T2x 5G (Marine Blue, 128 GB)\n",
      "vivo T2x 5G (Black Gladiator, 128 GB)\n",
      "vivo T2x 5G (Marine Blue, 128 GB)\n"
     ]
    }
   ],
   "source": [
    "for mobile in soup.find_all(\"div\",class_=\"_4rR01T\"):\n",
    "    mobiles = mobile.text.strip()\n",
    "    print(mobiles)"
   ]
  },
  {
   "cell_type": "code",
   "execution_count": 46,
   "id": "fb8bb85d",
   "metadata": {},
   "outputs": [
    {
     "name": "stdout",
     "output_type": "stream",
     "text": [
      "₹27,999\n",
      "₹14,499\n",
      "₹14,499\n",
      "₹11,999\n",
      "₹11,999\n",
      "₹12,999\n",
      "₹12,999\n",
      "₹11,999\n",
      "₹13,999\n",
      "₹13,999\n",
      "₹19,529\n",
      "₹19,631\n",
      "₹15,999\n",
      "₹17,812\n",
      "₹18,295\n",
      "₹18,409\n",
      "₹15,999\n",
      "₹12,999\n",
      "₹12,390\n",
      "₹14,499\n",
      "₹9,999\n",
      "₹14,999\n",
      "₹14,999\n",
      "₹12,999\n"
     ]
    }
   ],
   "source": [
    "for price in soup.find_all(\"div\",class_=\"_30jeq3 _1_WHN1\"):\n",
    "    prices = price.text.strip()\n",
    "    print(prices)"
   ]
  },
  {
   "cell_type": "code",
   "execution_count": 50,
   "id": "b10b3a0f",
   "metadata": {},
   "outputs": [
    {
     "name": "stdout",
     "output_type": "stream",
     "text": [
      "4.2\n",
      "4.2\n",
      "4.2\n",
      "4.2\n",
      "4.2\n",
      "4.4\n",
      "4.4\n",
      "4.2\n",
      "4.4\n",
      "4.4\n",
      "4.4\n",
      "4.2\n",
      "4.2\n",
      "4.3\n",
      "4.3\n",
      "4.3\n",
      "4.4\n",
      "4.4\n",
      "4\n",
      "4\n",
      "4.2\n",
      "4\n",
      "4\n",
      "4.2\n",
      "4\n",
      "5\n",
      "4.2\n",
      "4\n",
      "5\n",
      "4.2\n",
      "4\n",
      "1\n"
     ]
    }
   ],
   "source": [
    "for rating in soup.find_all(\"div\",class_='_3LWZlK'):\n",
    "    ratings = rating.text.strip()\n",
    "    print(ratings)"
   ]
  },
  {
   "cell_type": "code",
   "execution_count": null,
   "id": "813a7806",
   "metadata": {},
   "outputs": [],
   "source": []
  }
 ],
 "metadata": {
  "kernelspec": {
   "display_name": "Python 3 (ipykernel)",
   "language": "python",
   "name": "python3"
  },
  "language_info": {
   "codemirror_mode": {
    "name": "ipython",
    "version": 3
   },
   "file_extension": ".py",
   "mimetype": "text/x-python",
   "name": "python",
   "nbconvert_exporter": "python",
   "pygments_lexer": "ipython3",
   "version": "3.11.1"
  }
 },
 "nbformat": 4,
 "nbformat_minor": 5
}
